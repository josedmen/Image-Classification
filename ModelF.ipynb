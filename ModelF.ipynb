{
  "nbformat": 4,
  "nbformat_minor": 0,
  "metadata": {
    "accelerator": "GPU",
    "colab": {
      "name": "ModelF.ipynb",
      "provenance": [],
      "collapsed_sections": []
    },
    "kernelspec": {
      "display_name": "Python 3",
      "language": "python",
      "name": "python3"
    },
    "language_info": {
      "codemirror_mode": {
        "name": "ipython",
        "version": 3
      },
      "file_extension": ".py",
      "mimetype": "text/x-python",
      "name": "python",
      "nbconvert_exporter": "python",
      "pygments_lexer": "ipython3",
      "version": "3.6.1"
    }
  },
  "cells": [
    {
      "cell_type": "markdown",
      "metadata": {
        "id": "iQN-0DT9aPGD"
      },
      "source": [
        "\n",
        "## **Machine Learning App**\n",
        "\n",
        "This notebook establishes and subsequently trains a Convolutional Neural Network to classify natural images. \n",
        "\n",
        "The dataset has been custom made, starting with the dataset from Kaggle (https://www.kaggle.com/prasunroy/natural-images) and supplemented with additional images in four classifications (airplane, car, cat and dog). The complete dataset can be found at \n",
        "\n",
        "\n",
        "*Note: Ensure that your Colab space is running on a GPU by clicking Runtime >> Change runtime type. Ensure Runtime type is Python 3 and Hardware accelerator is GPU.*\n"
      ]
    },
    {
      "cell_type": "markdown",
      "metadata": {
        "id": "PQ3g-uTWaSii"
      },
      "source": [
        "Begin by mounting your g-drive into the colab space. The g-drive contains the image dataset to be used in training. This cell will provide a link, follow this link and sign in with your Google account. Copy the authorisation code provided and paste it into the box that appears in the cell below."
      ]
    },
    {
      "cell_type": "code",
      "metadata": {
        "id": "fmygZHqIfWFA",
        "outputId": "70134ac5-56df-4d19-e15f-d89b69e9987b",
        "colab": {
          "base_uri": "https://localhost:8080/"
        }
      },
      "source": [
        "from google.colab import drive\n",
        "drive.mount('/content/drive')"
      ],
      "execution_count": null,
      "outputs": [
        {
          "output_type": "stream",
          "name": "stdout",
          "text": [
            "Mounted at /content/drive\n"
          ]
        }
      ]
    },
    {
      "cell_type": "markdown",
      "metadata": {
        "id": "5xRrtrYQat9P"
      },
      "source": [
        "Import the necessary libraries. Make note of the Tensorflow, Keras and Numpy version numbers as these must be the same in any environment where the model is subsequently called."
      ]
    },
    {
      "cell_type": "code",
      "metadata": {
        "id": "U_jEJW6ogy8T",
        "outputId": "46e85f6e-fbe7-4ee6-bf2c-42e3e7e23612",
        "colab": {
          "base_uri": "https://localhost:8080/"
        }
      },
      "source": [
        "import os\n",
        "import zipfile\n",
        "import random\n",
        "from shutil import copyfile\n",
        "\n",
        "%tensorflow_version 1.x\n",
        "import tensorflow as tf\n",
        "print(tf.__version__)\n",
        "import keras\n",
        "print(keras.__version__)\n",
        "import numpy\n",
        "print(numpy.__version__)\n",
        "import cv2\n",
        "print(cv2.__version__)\n",
        "\n"
      ],
      "execution_count": null,
      "outputs": [
        {
          "output_type": "stream",
          "name": "stdout",
          "text": [
            "TensorFlow 1.x selected.\n",
            "1.15.2\n",
            "2.3.1\n",
            "1.19.5\n"
          ]
        },
        {
          "output_type": "stream",
          "name": "stderr",
          "text": [
            "Using TensorFlow backend.\n"
          ]
        },
        {
          "output_type": "stream",
          "name": "stdout",
          "text": [
            "4.1.2\n"
          ]
        }
      ]
    },
    {
      "cell_type": "markdown",
      "metadata": {
        "id": "HjE6pCNAdAT1"
      },
      "source": [
        "Unzip the Natural Images dataset and load it into the tmp folder of the Colab space."
      ]
    },
    {
      "cell_type": "code",
      "metadata": {
        "id": "RgaXpZTUg1z_"
      },
      "source": [
        "CATEGORIES = [\"aeroplane\", \"car\", \"cat\", \"dog\", \"person\",\"flower\", \"motorbike\", \"fruit\"]\n",
        "\n",
        "for cat in CATEGORIES: \n",
        "  local_zip = '/content/drive/My Drive/ai/' + cat + '.zip'\n",
        "  zip_ref = zipfile.ZipFile(local_zip, 'r')\n",
        "  zip_ref.extractall('/content/drive/My Drive/ai/Dataset')\n",
        "  zip_ref.close()"
      ],
      "execution_count": null,
      "outputs": []
    },
    {
      "cell_type": "markdown",
      "metadata": {
        "id": "0Csw8ugjdC57"
      },
      "source": [
        "Create the necessary folders for training and validation data to be stored."
      ]
    },
    {
      "cell_type": "code",
      "metadata": {
        "id": "bI1Kj5S3g4yi"
      },
      "source": [
        "try:\n",
        "    try:\n",
        "      os.mkdir('/tmp/data')\n",
        "      os.mkdir('/tmp/data/train')\n",
        "      os.mkdir('/tmp/data/validation')\n",
        "      os.mkdir('/tmp/data/test')\n",
        "    except:\n",
        "      pass\n",
        "    for cat in CATEGORIES:\n",
        "      os.mkdir('/tmp/data/train/' + cat)\n",
        "      os.mkdir('/tmp/data/validation/' + cat)\n",
        "      os.mkdir('/tmp/data/test/' + cat)\n",
        "except OSError as e:\n",
        "    print(e)"
      ],
      "execution_count": null,
      "outputs": []
    },
    {
      "cell_type": "markdown",
      "metadata": {
        "id": "k4agXbWYdHFj"
      },
      "source": [
        "Split the data into training (85%), validation (10%) and test (5%) data."
      ]
    },
    {
      "cell_type": "code",
      "metadata": {
        "id": "ivIr37C8g618",
        "outputId": "2f5540ce-06f9-4d6c-a44a-d6bb36cda468",
        "colab": {
          "base_uri": "https://localhost:8080/",
          "height": 119
        }
      },
      "source": [
        "def split_data(SOURCE, TRAINING, VALIDATION, TEST, train_size, validation_size):\n",
        "    files = []\n",
        "    for filename in os.listdir(SOURCE):\n",
        "        file = SOURCE + filename\n",
        "        if os.path.getsize(file) > 0.0:\n",
        "            files.append(filename)\n",
        "        else:\n",
        "            print(filename + \" is zero length, so ignoring.\")\n",
        "\n",
        "    training_length = int(len(files) * train_size)\n",
        "    validation_length = int(len(files) * validation_size)\n",
        "    test_length = int(len(files) - training_length - validation_length)\n",
        "    \n",
        "    shuffled_set = random.sample(files, len(files))\n",
        "    training_set = shuffled_set[0:training_length]\n",
        "    validation_set = shuffled_set[training_length:validation_length+training_length-1]\n",
        "    test_set = shuffled_set[-test_length-1:]\n",
        "   \n",
        "      \n",
        "    if len(files) - len(training_set) - len(validation_set) - len(test_set) > 1:\n",
        "      print(\"Split Error!\")\n",
        "      return\n",
        "\n",
        "    for filename in training_set:\n",
        "        this_file = SOURCE + filename\n",
        "        destination = TRAINING + filename\n",
        "        copyfile(this_file, destination)\n",
        "\n",
        "    for filename in validation_set:\n",
        "        this_file = SOURCE + filename\n",
        "        destination = VALIDATION + filename\n",
        "        copyfile(this_file, destination)\n",
        "\n",
        "    for filename in test_set:\n",
        "        this_file = SOURCE + filename\n",
        "        destination = TEST + filename\n",
        "        copyfile(this_file, destination)\n",
        "\n",
        "train_size = .85\n",
        "validation_size = 0.1\n",
        "for cat in CATEGORIES:\n",
        "    SOURCE_DIR = \"/content/drive/My Drive/ai/Dataset/\" + cat + \"/\"\n",
        "    TRAINING_DIR = \"/tmp/data/train/\" + cat + \"/\"\n",
        "    VALIDATION_DIR = \"/tmp/data/validation/\" + cat + \"/\"\n",
        "    TEST_DIR = \"/tmp/data/test/\" + cat + \"/\"\n",
        "\n",
        "    split_data(SOURCE_DIR, TRAINING_DIR, VALIDATION_DIR, TEST_DIR, train_size, validation_size)\n",
        "\n",
        "    \n"
      ],
      "execution_count": null,
      "outputs": [
        {
          "output_type": "stream",
          "text": [
            "aeroplane_1496.png is zero length, so ignoring.\n",
            "aeroplane_1523.png is zero length, so ignoring.\n",
            "aeroplane_1844.png is zero length, so ignoring.\n",
            "aeroplane_1942.png is zero length, so ignoring.\n",
            "car_0305.png is zero length, so ignoring.\n",
            "car_0848.png is zero length, so ignoring.\n"
          ],
          "name": "stdout"
        }
      ]
    },
    {
      "cell_type": "markdown",
      "metadata": {
        "id": "ZeyKQVuwdn7i"
      },
      "source": [
        "Set the variables required for the model. "
      ]
    },
    {
      "cell_type": "code",
      "metadata": {
        "id": "C38gT9Efg9Jb",
        "outputId": "6fba44c5-6e0d-4617-ffbe-2e2fab8ef3c1",
        "colab": {
          "base_uri": "https://localhost:8080/",
          "height": 68
        }
      },
      "source": [
        "img_width, img_height = 150, 150\n",
        "\n",
        "\n",
        "train_data_dir = '/tmp/data/train'\n",
        "validation_data_dir = '/tmp/data/validation'\n",
        "test_data_dir = '/tmp/data/test'\n",
        "epochs = 37\n",
        "batch_size = 64\n",
        "classes_count = len(CATEGORIES)\n",
        "\n",
        "for p in [train_data_dir, validation_data_dir, test_data_dir ]:\n",
        "  no_of_files = sum([len(files) for r, d, files in os.walk(p)])\n",
        "  print(\"%s count: %s\" % (p, no_of_files))\n",
        "\n",
        "nb_train_samples = sum([len(files) for r, d, files in os.walk(train_data_dir)])\n",
        "nb_validation_samples = sum([len(files) for r, d, files in os.walk( test_data_dir)])"
      ],
      "execution_count": null,
      "outputs": [
        {
          "output_type": "stream",
          "text": [
            "/tmp/data/train count: 18643\n",
            "/tmp/data/validation count: 3607\n",
            "/tmp/data/test count: 1893\n"
          ],
          "name": "stdout"
        }
      ]
    },
    {
      "cell_type": "markdown",
      "metadata": {
        "id": "dR86fpd5dmow"
      },
      "source": [
        "In order to better train the CNN we use Image Data Generators to manipulate the input images in order to improve the accuracy of the model. The training images will be shifted, sheared, horizontally flipped and zoomed, thus providing a more varied dataset for the model to be trained upon. This is referred to as 'augmenting' the data."
      ]
    },
    {
      "cell_type": "code",
      "metadata": {
        "id": "WivDXv16hEr3",
        "outputId": "aa335d5e-ef54-4ab7-c182-cbd5973e419c",
        "colab": {
          "base_uri": "https://localhost:8080/",
          "height": 51
        }
      },
      "source": [
        " from keras.preprocessing.image import ImageDataGenerator\n",
        "\n",
        "# this is the augmentation configuration we will use for training\n",
        "train_datagen = ImageDataGenerator(rescale=1. / 255,\n",
        "    rotation_range=5,\n",
        "    width_shift_range=0.05,\n",
        "    height_shift_range=0.05,\n",
        "    shear_range=0.05,\n",
        "    zoom_range=0.02,\n",
        "    horizontal_flip=True,\n",
        "    fill_mode='nearest'\n",
        "    )\n",
        "\n",
        "\n",
        "# this is the augmentation configuration we will use for validation:\n",
        "# only rescaling\n",
        "validation_datagen = ImageDataGenerator(rescale=1. / 255)\n",
        "\n",
        "train_generator = train_datagen.flow_from_directory(\n",
        "    train_data_dir,\n",
        "    target_size=(img_width, img_height),\n",
        "    batch_size=batch_size,\n",
        "    class_mode='sparse')\n",
        "\n",
        "validation_generator = validation_datagen.flow_from_directory(\n",
        "    validation_data_dir,\n",
        "    target_size=(img_width, img_height),\n",
        "    batch_size=batch_size,\n",
        "    class_mode='sparse') "
      ],
      "execution_count": null,
      "outputs": [
        {
          "output_type": "stream",
          "text": [
            "Found 18643 images belonging to 8 classes.\n",
            "Found 3607 images belonging to 8 classes.\n"
          ],
          "name": "stdout"
        }
      ]
    },
    {
      "cell_type": "markdown",
      "metadata": {
        "id": "eqIbDTbsd1nV"
      },
      "source": [
        "Create a Callback function to be used in the training of the model. This will stop training once a pre-defined accuracy threshold (99%) has been achieved."
      ]
    },
    {
      "cell_type": "code",
      "metadata": {
        "id": "h_GXkN-2hRys"
      },
      "source": [
        "tar = 0.99\n",
        "# Define a Callback class that stops training once accuracy reaches a threshold\n",
        "class myCallback(tf.keras.callbacks.Callback):\n",
        "  def on_epoch_end(self, epoch, logs={}):\n",
        "    if(logs.get('accuracy')>tar or logs.get('val_accuracy')>tar):\n",
        "      print(\"\\nReached 99.0% accuracy so cancelling training!\")\n",
        "      self.model.stop_training = True"
      ],
      "execution_count": null,
      "outputs": []
    },
    {
      "cell_type": "markdown",
      "metadata": {
        "id": "czZlAroHd-bv"
      },
      "source": [
        "Define the CNN model, which in this case will be four 2D convolutional layers (with relu activation functions and max pooling enabled). Followed by two fully connected dense layer (with relu activation), a dropout layer (to reduce over fitting) and a final dense layer with a softmax activation function. This final layer will output a one-hot list which represents the model’s designated classification of the image.\n",
        "\n",
        "An Adam (Adaptive moment estimation) optimizer is used as it works well in practice and outperforms other adaptive techniques."
      ]
    },
    {
      "cell_type": "code",
      "metadata": {
        "id": "PuV8AQSwhb8q"
      },
      "source": [
        "from keras.preprocessing.image import ImageDataGenerator\n",
        "from keras.models import Sequential\n",
        "from keras.layers import Conv2D, MaxPooling2D\n",
        "from keras.layers import Activation, Dropout, Flatten, Dense\n",
        "from keras import backend as K\n",
        "\n",
        "if K.image_data_format() == 'channels_first':\n",
        "    input_shape = (3, img_width, img_height)\n",
        "else:\n",
        "    input_shape = (img_width, img_height, 3)\n",
        "    \n",
        "model = Sequential()\n",
        "model.add(Conv2D(32, (3, 3), input_shape=input_shape))\n",
        "model.add(Activation('relu'))\n",
        "model.add(MaxPooling2D(pool_size=(2, 2)))\n",
        "\n",
        "model.add(Conv2D(64, (3, 3)))\n",
        "model.add(Activation('relu'))\n",
        "model.add(MaxPooling2D(pool_size=(2, 2)))\n",
        "\n",
        "model.add(Conv2D(128, (3, 3)))\n",
        "model.add(Activation('relu'))\n",
        "model.add(MaxPooling2D(pool_size=(2, 2)))\n",
        "\n",
        "model.add(Conv2D(256, (3, 3)))\n",
        "model.add(Activation('relu'))\n",
        "model.add(MaxPooling2D(pool_size=(2, 2)))\n",
        "\n",
        "model.add(Flatten())\n",
        "model.add(Dense(512))\n",
        "model.add(Activation('relu'))\n",
        "model.add(Dropout(0.15))\n",
        "model.add(Dense(64))\n",
        "model.add(Activation('relu'))\n",
        "\n",
        "\n",
        "model.add(Dense(classes_count, activation='softmax'))\n",
        "\n",
        "model.compile(loss='sparse_categorical_crossentropy',\n",
        "              optimizer='Adam',\n",
        "              metrics=['accuracy'])"
      ],
      "execution_count": null,
      "outputs": []
    },
    {
      "cell_type": "markdown",
      "metadata": {
        "id": "pZZ0qo6yka2y"
      },
      "source": [
        "Train the model using the parameters and image generators defined above."
      ]
    },
    {
      "cell_type": "code",
      "metadata": {
        "id": "ecmuHHTKhfYP",
        "outputId": "c275ef83-7ebd-4d61-e829-f6a1fc98b6cb",
        "colab": {
          "base_uri": "https://localhost:8080/",
          "height": 1000
        }
      },
      "source": [
        "NAME = \"ML_App\"\n",
        "\n",
        "callbacks = myCallback()\n",
        "\n",
        "# Train the model\n",
        "history = model.fit_generator(\n",
        "    train_generator,\n",
        "    steps_per_epoch=nb_train_samples // batch_size,\n",
        "    epochs=epochs,\n",
        "    validation_data=validation_generator,\n",
        "    validation_steps=nb_validation_samples // batch_size,\n",
        "    callbacks=[callbacks])\n",
        "\n",
        "try:\n",
        "  model.save_weights('/content/drive/My Drive/ai/' + NAME + '.h6')  # attempts to save in the gdrive\n",
        "  model.save('/content/drive/My Drive/ai/' + NAME)\n",
        "  print(\"model saved in natuaral images\")  \n",
        "except: \n",
        "  model.save_weights('/tmp/' + NAME + '.h5')  # saves in the tmp folder if the gdrive fails to connect\n",
        "  model.save('/tmp/' + NAME)\n",
        "  print(\"model saved in tmp\")"
      ],
      "execution_count": null,
      "outputs": [
        {
          "output_type": "stream",
          "text": [
            "Epoch 1/37\n"
          ],
          "name": "stdout"
        },
        {
          "output_type": "stream",
          "text": [
            "/usr/local/lib/python3.6/dist-packages/PIL/Image.py:914: UserWarning: Palette images with Transparency   expressed in bytes should be converted to RGBA images\n",
            "  'to RGBA images')\n"
          ],
          "name": "stderr"
        },
        {
          "output_type": "stream",
          "text": [
            "291/291 [==============================] - 127s 436ms/step - loss: 1.1320 - acc: 0.5798 - val_loss: 0.7524 - val_acc: 0.7112\n",
            "Epoch 2/37\n",
            "291/291 [==============================] - 125s 431ms/step - loss: 0.6891 - acc: 0.7471 - val_loss: 0.5882 - val_acc: 0.7945\n",
            "Epoch 3/37\n",
            "291/291 [==============================] - 125s 430ms/step - loss: 0.5700 - acc: 0.7912 - val_loss: 0.4874 - val_acc: 0.8163\n",
            "Epoch 4/37\n",
            "291/291 [==============================] - 125s 429ms/step - loss: 0.4845 - acc: 0.8221 - val_loss: 0.3760 - val_acc: 0.8584\n",
            "Epoch 5/37\n",
            "291/291 [==============================] - 125s 430ms/step - loss: 0.4149 - acc: 0.8462 - val_loss: 0.4518 - val_acc: 0.8335\n",
            "Epoch 6/37\n",
            "291/291 [==============================] - 125s 429ms/step - loss: 0.3746 - acc: 0.8609 - val_loss: 0.3577 - val_acc: 0.8815\n",
            "Epoch 7/37\n",
            "291/291 [==============================] - 124s 426ms/step - loss: 0.3323 - acc: 0.8775 - val_loss: 0.3689 - val_acc: 0.8696\n",
            "Epoch 8/37\n",
            "291/291 [==============================] - 124s 426ms/step - loss: 0.3027 - acc: 0.8888 - val_loss: 0.2699 - val_acc: 0.8992\n",
            "Epoch 9/37\n",
            "291/291 [==============================] - 124s 426ms/step - loss: 0.2720 - acc: 0.9019 - val_loss: 0.2299 - val_acc: 0.9186\n",
            "Epoch 10/37\n",
            "291/291 [==============================] - 124s 427ms/step - loss: 0.2540 - acc: 0.9049 - val_loss: 0.1964 - val_acc: 0.9339\n",
            "Epoch 11/37\n",
            "291/291 [==============================] - 124s 427ms/step - loss: 0.2098 - acc: 0.9227 - val_loss: 0.2068 - val_acc: 0.9219\n",
            "Epoch 12/37\n",
            "291/291 [==============================] - 124s 425ms/step - loss: 0.2068 - acc: 0.9245 - val_loss: 0.1630 - val_acc: 0.9433\n",
            "Epoch 13/37\n",
            "291/291 [==============================] - 124s 427ms/step - loss: 0.1768 - acc: 0.9355 - val_loss: 0.1735 - val_acc: 0.9402\n",
            "Epoch 14/37\n",
            "291/291 [==============================] - 124s 427ms/step - loss: 0.1858 - acc: 0.9323 - val_loss: 0.1513 - val_acc: 0.9471\n",
            "Epoch 15/37\n",
            "291/291 [==============================] - 124s 427ms/step - loss: 0.1622 - acc: 0.9408 - val_loss: 0.1351 - val_acc: 0.9520\n",
            "Epoch 16/37\n",
            "291/291 [==============================] - 124s 427ms/step - loss: 0.1553 - acc: 0.9447 - val_loss: 0.1989 - val_acc: 0.9267\n",
            "Epoch 17/37\n",
            "291/291 [==============================] - 125s 429ms/step - loss: 0.1422 - acc: 0.9495 - val_loss: 0.1256 - val_acc: 0.9634\n",
            "Epoch 18/37\n",
            "291/291 [==============================] - 124s 428ms/step - loss: 0.1358 - acc: 0.9526 - val_loss: 0.1231 - val_acc: 0.9598\n",
            "Epoch 19/37\n",
            "291/291 [==============================] - 124s 425ms/step - loss: 0.1244 - acc: 0.9552 - val_loss: 0.1026 - val_acc: 0.9677\n",
            "Epoch 20/37\n",
            "291/291 [==============================] - 124s 425ms/step - loss: 0.1116 - acc: 0.9604 - val_loss: 0.1259 - val_acc: 0.9598\n",
            "Epoch 21/37\n",
            "291/291 [==============================] - 125s 429ms/step - loss: 0.1137 - acc: 0.9596 - val_loss: 0.1488 - val_acc: 0.9569\n",
            "Epoch 22/37\n",
            "291/291 [==============================] - 124s 427ms/step - loss: 0.1062 - acc: 0.9636 - val_loss: 0.0873 - val_acc: 0.9730\n",
            "Epoch 23/37\n",
            "291/291 [==============================] - 125s 429ms/step - loss: 0.1024 - acc: 0.9627 - val_loss: 0.0940 - val_acc: 0.9736\n",
            "Epoch 24/37\n",
            "291/291 [==============================] - 125s 429ms/step - loss: 0.0956 - acc: 0.9671 - val_loss: 0.0680 - val_acc: 0.9758\n",
            "Epoch 25/37\n",
            "291/291 [==============================] - 127s 435ms/step - loss: 0.0953 - acc: 0.9688 - val_loss: 0.1507 - val_acc: 0.9558\n",
            "Epoch 26/37\n",
            "291/291 [==============================] - 128s 439ms/step - loss: 0.0862 - acc: 0.9702 - val_loss: 0.0880 - val_acc: 0.9658\n",
            "Epoch 27/37\n",
            "291/291 [==============================] - 128s 439ms/step - loss: 0.0905 - acc: 0.9683 - val_loss: 0.1035 - val_acc: 0.9677\n",
            "Epoch 28/37\n",
            "291/291 [==============================] - 128s 441ms/step - loss: 0.0767 - acc: 0.9742 - val_loss: 0.1262 - val_acc: 0.9653\n",
            "Epoch 29/37\n",
            "291/291 [==============================] - 129s 442ms/step - loss: 0.0869 - acc: 0.9712 - val_loss: 0.0582 - val_acc: 0.9833\n",
            "Epoch 30/37\n",
            "291/291 [==============================] - 129s 442ms/step - loss: 0.0802 - acc: 0.9722 - val_loss: 0.0805 - val_acc: 0.9758\n",
            "Epoch 31/37\n",
            "291/291 [==============================] - 130s 447ms/step - loss: 0.0778 - acc: 0.9736 - val_loss: 0.0778 - val_acc: 0.9736\n",
            "Epoch 32/37\n",
            "291/291 [==============================] - 129s 445ms/step - loss: 0.0755 - acc: 0.9747 - val_loss: 0.1073 - val_acc: 0.9680\n",
            "Epoch 33/37\n",
            "291/291 [==============================] - 130s 447ms/step - loss: 0.0735 - acc: 0.9747 - val_loss: 0.1201 - val_acc: 0.9639\n",
            "Epoch 34/37\n",
            "291/291 [==============================] - 130s 446ms/step - loss: 0.0667 - acc: 0.9771 - val_loss: 0.0943 - val_acc: 0.9719\n",
            "Epoch 35/37\n",
            "291/291 [==============================] - 131s 451ms/step - loss: 0.0574 - acc: 0.9803 - val_loss: 0.0773 - val_acc: 0.9768\n",
            "Epoch 36/37\n",
            "291/291 [==============================] - 131s 451ms/step - loss: 0.0587 - acc: 0.9806 - val_loss: 0.0798 - val_acc: 0.9791\n",
            "Epoch 37/37\n",
            "291/291 [==============================] - 131s 452ms/step - loss: 0.0725 - acc: 0.9760 - val_loss: 0.0658 - val_acc: 0.9811\n",
            "model saved in natuaral images\n"
          ],
          "name": "stdout"
        }
      ]
    },
    {
      "cell_type": "markdown",
      "metadata": {
        "id": "SPcNglIKhcv0"
      },
      "source": [
        "Plot the Training and validation accuracy and the Training and validation loss to observe who the model preformed over successive epochs."
      ]
    },
    {
      "cell_type": "code",
      "metadata": {
        "id": "NkCJc3pIhlgf",
        "outputId": "2faea00d-de82-43ab-8853-a8202231ab67",
        "colab": {
          "base_uri": "https://localhost:8080/",
          "height": 545
        }
      },
      "source": [
        "import matplotlib.pyplot as plt\n",
        "acc = history.history['accuraccy']\n",
        "val_acc = history.history['val_accuracy']\n",
        "loss = history.history['loss']\n",
        "val_loss = history.history['val_loss']\n",
        "\n",
        "epochs_his = range(len(acc))\n",
        "\n",
        "plt.plot(epochs_his, acc, 'r', label='Training accuracy')\n",
        "plt.plot(epochs_his, val_acc, 'b', label='Validation accuracy')\n",
        "plt.title('Training and validation accuracy')\n",
        "plt.legend()\n",
        "plt.figure()\n",
        "\n",
        "plt.plot(epochs_his, loss, 'r', label='Training Loss')\n",
        "plt.plot(epochs_his, val_loss, 'b', label='Validation Loss')\n",
        "plt.title('Training and validation loss')\n",
        "plt.legend()\n",
        "\n",
        "plt.show()"
      ],
      "execution_count": null,
      "outputs": [
        {
          "output_type": "display_data",
          "data": {
            "image/png": "[encoded data removed]",
            "text/plain": [
              "<Figure size 432x288 with 1 Axes>"
            ]
          },
          "metadata": {
            "tags": []
          }
        },
        {
          "output_type": "display_data",
          "data": {
            "image/png": "[encoded data removed]",
            "text/plain": [
              "<Figure size 432x288 with 1 Axes>"
            ]
          },
          "metadata": {
            "tags": []
          }
        }
      ]
    },
    {
      "cell_type": "markdown",
      "metadata": {
        "id": "Ci_7-p2_huIV"
      },
      "source": [
        "Run the model on the test data and print a classification report. This gives an indication of the accuracy of the model on images that were not seen during the training / validation of the model. It demonstrates that the model is correct c.96% of the time, although this varies on a class by class basis."
      ]
    },
    {
      "cell_type": "code",
      "metadata": {
        "id": "fa4m3XmyntNY",
        "outputId": "bab5948b-e370-4cc9-fb3d-caf2cab8f933",
        "colab": {
          "base_uri": "https://localhost:8080/",
          "height": 323
        }
      },
      "source": [
        "from sklearn.metrics import classification_report\n",
        "\n",
        "test_generator = ImageDataGenerator(rescale=1. / 255)\n",
        "test_data_generator = test_generator.flow_from_directory(\n",
        "    test_data_dir,\n",
        "    target_size=(img_width, img_height),\n",
        "    batch_size=8,\n",
        "    shuffle=False)\n",
        "test_steps_per_epoch = numpy.math.ceil(test_data_generator.samples / test_data_generator.batch_size)\n",
        "\n",
        "predictions = model.predict_generator(test_data_generator, steps=test_steps_per_epoch)\n",
        "predicted_classes = numpy.argmax(predictions, axis=1)\n",
        "\n",
        "true_classes = test_data_generator.classes\n",
        "class_labels = list(test_data_generator.class_indices.keys())   \n",
        "report = classification_report(true_classes, predicted_classes, target_names=class_labels)\n",
        "print(report) "
      ],
      "execution_count": null,
      "outputs": [
        {
          "output_type": "stream",
          "text": [
            "Found 1893 images belonging to 8 classes.\n"
          ],
          "name": "stdout"
        },
        {
          "output_type": "stream",
          "text": [
            "/usr/local/lib/python3.6/dist-packages/PIL/Image.py:914: UserWarning: Palette images with Transparency   expressed in bytes should be converted to RGBA images\n",
            "  'to RGBA images')\n"
          ],
          "name": "stderr"
        },
        {
          "output_type": "stream",
          "text": [
            "              precision    recall  f1-score   support\n",
            "\n",
            "   aeroplane       0.98      0.99      0.98       209\n",
            "         car       0.97      0.99      0.98       190\n",
            "         cat       0.96      0.95      0.96       206\n",
            "         dog       0.96      0.96      0.96       209\n",
            "      flower       0.98      0.97      0.98       279\n",
            "       fruit       0.98      0.98      0.98       398\n",
            "   motorbike       1.00      0.99      0.99       204\n",
            "      person       1.00      0.99      1.00       198\n",
            "\n",
            "    accuracy                           0.98      1893\n",
            "   macro avg       0.98      0.98      0.98      1893\n",
            "weighted avg       0.98      0.98      0.98      1893\n",
            "\n"
          ],
          "name": "stdout"
        }
      ]
    },
    {
      "cell_type": "markdown",
      "metadata": {
        "id": "5qGeWUCKk1BU"
      },
      "source": [
        "Upload an example image and test what the model predicts the image is."
      ]
    },
    {
      "cell_type": "code",
      "metadata": {
        "id": "33lXbccBnjZl",
        "outputId": "29fdc345-ff42-44f6-db44-77507e4567f0",
        "colab": {
          "base_uri": "https://localhost:8080/"
        }
      },
      "source": [
        "import numpy as np\n",
        "from google.colab import files\n",
        "from keras.preprocessing import image\n",
        "import cv2 \n",
        "\n",
        "\n",
        "import tensorflow as tf\n",
        "\n",
        "switch = 1 #Set to 0 if loading directly (i.e. having not immediately trained the model beforehand) \n",
        "if switch == 0:\n",
        "  NAME = \"ML_App\"\n",
        "  img_width, img_height = 150, 150 \n",
        "  CATEGORIES = [\"aeroplane\", \"car\", \"cat\", \"dog\",\"person\", \"motorbike\", \"flower\", \"fruit\"]\n",
        "  \n",
        "def prepare(filepath):\n",
        "    img_array = cv2.imread(filepath)\n",
        "    new_array = cv2.resize(img_array, (img_width, img_height))\n",
        "    new_array_norm = cv2.normalize(new_array, None, alpha=0, beta=1, norm_type=cv2.NORM_MINMAX, dtype=cv2.CV_32F)\n",
        "    return new_array_norm.reshape(-1, img_width, img_height, 3)\n",
        "\n",
        "\n",
        "model = tf.keras.models.load_model('/tmp/' + NAME)\n",
        "  \n",
        "uploaded = files.upload()\n",
        "\n",
        "\n",
        "\n",
        "for fn in uploaded:#.keys():\n",
        "  prediction = model.predict([prepare(fn)]) \n",
        "  print(fn + \" is a \" + CATEGORIES[np.argmax(prediction[0])])"
      ],
      "execution_count": null,
      "outputs": [
        {
          "output_type": "error",
          "ename": "OSError",
          "evalue": "ignored",
          "traceback": [
            "\u001b[0;31m---------------------------------------------------------------------------\u001b[0m",
            "\u001b[0;31mOSError\u001b[0m                                   Traceback (most recent call last)",
            "\u001b[0;32m<ipython-input-2-cc6d18076427>\u001b[0m in \u001b[0;36m<module>\u001b[0;34m()\u001b[0m\n\u001b[1;32m     20\u001b[0m \u001b[0;34m\u001b[0m\u001b[0m\n\u001b[1;32m     21\u001b[0m \u001b[0;34m\u001b[0m\u001b[0m\n\u001b[0;32m---> 22\u001b[0;31m \u001b[0mmodel\u001b[0m \u001b[0;34m=\u001b[0m \u001b[0mtf\u001b[0m\u001b[0;34m.\u001b[0m\u001b[0mkeras\u001b[0m\u001b[0;34m.\u001b[0m\u001b[0mmodels\u001b[0m\u001b[0;34m.\u001b[0m\u001b[0mload_model\u001b[0m\u001b[0;34m(\u001b[0m\u001b[0;34m'/'\u001b[0m \u001b[0;34m+\u001b[0m \u001b[0mNAME\u001b[0m\u001b[0;34m)\u001b[0m\u001b[0;34m\u001b[0m\u001b[0;34m\u001b[0m\u001b[0m\n\u001b[0m\u001b[1;32m     23\u001b[0m \u001b[0;34m\u001b[0m\u001b[0m\n\u001b[1;32m     24\u001b[0m \u001b[0muploaded\u001b[0m \u001b[0;34m=\u001b[0m \u001b[0mfiles\u001b[0m\u001b[0;34m.\u001b[0m\u001b[0mupload\u001b[0m\u001b[0;34m(\u001b[0m\u001b[0;34m)\u001b[0m\u001b[0;34m\u001b[0m\u001b[0;34m\u001b[0m\u001b[0m\n",
            "\u001b[0;32m/usr/local/lib/python3.7/dist-packages/keras/utils/traceback_utils.py\u001b[0m in \u001b[0;36merror_handler\u001b[0;34m(*args, **kwargs)\u001b[0m\n\u001b[1;32m     65\u001b[0m     \u001b[0;32mexcept\u001b[0m \u001b[0mException\u001b[0m \u001b[0;32mas\u001b[0m \u001b[0me\u001b[0m\u001b[0;34m:\u001b[0m  \u001b[0;31m# pylint: disable=broad-except\u001b[0m\u001b[0;34m\u001b[0m\u001b[0;34m\u001b[0m\u001b[0m\n\u001b[1;32m     66\u001b[0m       \u001b[0mfiltered_tb\u001b[0m \u001b[0;34m=\u001b[0m \u001b[0m_process_traceback_frames\u001b[0m\u001b[0;34m(\u001b[0m\u001b[0me\u001b[0m\u001b[0;34m.\u001b[0m\u001b[0m__traceback__\u001b[0m\u001b[0;34m)\u001b[0m\u001b[0;34m\u001b[0m\u001b[0;34m\u001b[0m\u001b[0m\n\u001b[0;32m---> 67\u001b[0;31m       \u001b[0;32mraise\u001b[0m \u001b[0me\u001b[0m\u001b[0;34m.\u001b[0m\u001b[0mwith_traceback\u001b[0m\u001b[0;34m(\u001b[0m\u001b[0mfiltered_tb\u001b[0m\u001b[0;34m)\u001b[0m \u001b[0;32mfrom\u001b[0m \u001b[0;32mNone\u001b[0m\u001b[0;34m\u001b[0m\u001b[0;34m\u001b[0m\u001b[0m\n\u001b[0m\u001b[1;32m     68\u001b[0m     \u001b[0;32mfinally\u001b[0m\u001b[0;34m:\u001b[0m\u001b[0;34m\u001b[0m\u001b[0;34m\u001b[0m\u001b[0m\n\u001b[1;32m     69\u001b[0m       \u001b[0;32mdel\u001b[0m \u001b[0mfiltered_tb\u001b[0m\u001b[0;34m\u001b[0m\u001b[0;34m\u001b[0m\u001b[0m\n",
            "\u001b[0;32m/usr/local/lib/python3.7/dist-packages/h5py/_hl/files.py\u001b[0m in \u001b[0;36m__init__\u001b[0;34m(self, name, mode, driver, libver, userblock_size, swmr, rdcc_nslots, rdcc_nbytes, rdcc_w0, track_order, fs_strategy, fs_persist, fs_threshold, **kwds)\u001b[0m\n\u001b[1;32m    425\u001b[0m                                fapl, fcpl=make_fcpl(track_order=track_order, fs_strategy=fs_strategy,\n\u001b[1;32m    426\u001b[0m                                fs_persist=fs_persist, fs_threshold=fs_threshold),\n\u001b[0;32m--> 427\u001b[0;31m                                swmr=swmr)\n\u001b[0m\u001b[1;32m    428\u001b[0m \u001b[0;34m\u001b[0m\u001b[0m\n\u001b[1;32m    429\u001b[0m             \u001b[0;32mif\u001b[0m \u001b[0misinstance\u001b[0m\u001b[0;34m(\u001b[0m\u001b[0mlibver\u001b[0m\u001b[0;34m,\u001b[0m \u001b[0mtuple\u001b[0m\u001b[0;34m)\u001b[0m\u001b[0;34m:\u001b[0m\u001b[0;34m\u001b[0m\u001b[0;34m\u001b[0m\u001b[0m\n",
            "\u001b[0;32m/usr/local/lib/python3.7/dist-packages/h5py/_hl/files.py\u001b[0m in \u001b[0;36mmake_fid\u001b[0;34m(name, mode, userblock_size, fapl, fcpl, swmr)\u001b[0m\n\u001b[1;32m    188\u001b[0m         \u001b[0;32mif\u001b[0m \u001b[0mswmr\u001b[0m \u001b[0;32mand\u001b[0m \u001b[0mswmr_support\u001b[0m\u001b[0;34m:\u001b[0m\u001b[0;34m\u001b[0m\u001b[0;34m\u001b[0m\u001b[0m\n\u001b[1;32m    189\u001b[0m             \u001b[0mflags\u001b[0m \u001b[0;34m|=\u001b[0m \u001b[0mh5f\u001b[0m\u001b[0;34m.\u001b[0m\u001b[0mACC_SWMR_READ\u001b[0m\u001b[0;34m\u001b[0m\u001b[0;34m\u001b[0m\u001b[0m\n\u001b[0;32m--> 190\u001b[0;31m         \u001b[0mfid\u001b[0m \u001b[0;34m=\u001b[0m \u001b[0mh5f\u001b[0m\u001b[0;34m.\u001b[0m\u001b[0mopen\u001b[0m\u001b[0;34m(\u001b[0m\u001b[0mname\u001b[0m\u001b[0;34m,\u001b[0m \u001b[0mflags\u001b[0m\u001b[0;34m,\u001b[0m \u001b[0mfapl\u001b[0m\u001b[0;34m=\u001b[0m\u001b[0mfapl\u001b[0m\u001b[0;34m)\u001b[0m\u001b[0;34m\u001b[0m\u001b[0;34m\u001b[0m\u001b[0m\n\u001b[0m\u001b[1;32m    191\u001b[0m     \u001b[0;32melif\u001b[0m \u001b[0mmode\u001b[0m \u001b[0;34m==\u001b[0m \u001b[0;34m'r+'\u001b[0m\u001b[0;34m:\u001b[0m\u001b[0;34m\u001b[0m\u001b[0;34m\u001b[0m\u001b[0m\n\u001b[1;32m    192\u001b[0m         \u001b[0mfid\u001b[0m \u001b[0;34m=\u001b[0m \u001b[0mh5f\u001b[0m\u001b[0;34m.\u001b[0m\u001b[0mopen\u001b[0m\u001b[0;34m(\u001b[0m\u001b[0mname\u001b[0m\u001b[0;34m,\u001b[0m \u001b[0mh5f\u001b[0m\u001b[0;34m.\u001b[0m\u001b[0mACC_RDWR\u001b[0m\u001b[0;34m,\u001b[0m \u001b[0mfapl\u001b[0m\u001b[0;34m=\u001b[0m\u001b[0mfapl\u001b[0m\u001b[0;34m)\u001b[0m\u001b[0;34m\u001b[0m\u001b[0;34m\u001b[0m\u001b[0m\n",
            "\u001b[0;32mh5py/_objects.pyx\u001b[0m in \u001b[0;36mh5py._objects.with_phil.wrapper\u001b[0;34m()\u001b[0m\n",
            "\u001b[0;32mh5py/_objects.pyx\u001b[0m in \u001b[0;36mh5py._objects.with_phil.wrapper\u001b[0;34m()\u001b[0m\n",
            "\u001b[0;32mh5py/h5f.pyx\u001b[0m in \u001b[0;36mh5py.h5f.open\u001b[0;34m()\u001b[0m\n",
            "\u001b[0;31mOSError\u001b[0m: Unable to open file (truncated file: eof = 66060288, sblock->base_addr = 0, stored_eof = 82203144)"
          ]
        }
      ]
    }
  ]
}